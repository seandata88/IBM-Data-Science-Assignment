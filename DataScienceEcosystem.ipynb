{
  "nbformat": 4,
  "nbformat_minor": 0,
  "metadata": {
    "colab": {
      "provenance": []
    },
    "kernelspec": {
      "name": "python3",
      "display_name": "Python 3"
    },
    "language_info": {
      "name": "python"
    }
  },
  "cells": [
    {
      "cell_type": "markdown",
      "source": [
        "# Data Science Tools and Ecosystem"
      ],
      "metadata": {
        "id": "q7KTloWhHv_J"
      }
    },
    {
      "cell_type": "markdown",
      "source": [
        "In this notebook, Data Science Tools and Ecosystem are summarized."
      ],
      "metadata": {
        "id": "NQbeF67UInEG"
      }
    },
    {
      "cell_type": "markdown",
      "source": [
        "**Objectives:**\n",
        "* List popular languages for Data Science\n",
        "* List commonly used libraries in Data Science\n",
        "* A few examples of evaluating arithmetic expressions in Python"
      ],
      "metadata": {
        "id": "mhwLus-4Nvuj"
      }
    },
    {
      "cell_type": "markdown",
      "source": [
        "Some of the popular languages that Data Scientists use are:\n",
        "1. Python\n",
        "2. R\n",
        "3. SQL\n",
        "4. Java (my favorite)\n",
        "\n"
      ],
      "metadata": {
        "id": "zHuYHfENI_AA"
      }
    },
    {
      "cell_type": "markdown",
      "source": [
        "Some of the commonly used libraries used by Data Scientists include:\n",
        "1. panda\n",
        "2. scipy\n",
        "3. numpy\n",
        "4. sklearn (aka scikit-learn)\n",
        "5. keras\n",
        "6. tensorflow"
      ],
      "metadata": {
        "id": "HrzHliYRJgOT"
      }
    },
    {
      "cell_type": "markdown",
      "source": [
        "|Data Science Tools|\n",
        "|---|\n",
        "|Google Colaboratory|\n",
        "|RStudio|\n",
        "|PyCharm|\n",
        "|Jupyter Labs|\n",
        "\n"
      ],
      "metadata": {
        "id": "uVGNCETCJ8KD"
      }
    },
    {
      "cell_type": "markdown",
      "source": [
        "### Below are a few examples of evaluating arithmetic expressions in Python"
      ],
      "metadata": {
        "id": "47V78Ex7Lw5x"
      }
    },
    {
      "cell_type": "code",
      "source": [
        "# this multiplies then adds the integers\n",
        "(3*4)+5"
      ],
      "metadata": {
        "colab": {
          "base_uri": "https://localhost:8080/"
        },
        "id": "nn7qea4cJ9P9",
        "outputId": "787a7a0d-5712-45d3-bc4f-2125de40b629"
      },
      "execution_count": 1,
      "outputs": [
        {
          "output_type": "execute_result",
          "data": {
            "text/plain": [
              "17"
            ]
          },
          "metadata": {},
          "execution_count": 1
        }
      ]
    },
    {
      "cell_type": "code",
      "source": [
        "# This will convert 200 minutes to hours by diving by 60\n",
        "minutes = 200\n",
        "hours = minutes/60\n",
        "print(minutes, \"minutes is\", minutes/60, \"hours\")"
      ],
      "metadata": {
        "colab": {
          "base_uri": "https://localhost:8080/"
        },
        "id": "m41KKN38MK4l",
        "outputId": "c464b106-764c-4977-c870-4ba025f28931"
      },
      "execution_count": 5,
      "outputs": [
        {
          "output_type": "stream",
          "name": "stdout",
          "text": [
            "200 minutes is 3.3333333333333335 hours\n"
          ]
        }
      ]
    },
    {
      "cell_type": "markdown",
      "source": [
        "## Author\n",
        "Sean Murphy"
      ],
      "metadata": {
        "id": "_FTHwX3IOqzR"
      }
    }
  ]
}